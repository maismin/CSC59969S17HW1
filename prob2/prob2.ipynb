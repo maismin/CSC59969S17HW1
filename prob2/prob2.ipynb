{
 "cells": [
  {
   "cell_type": "code",
   "execution_count": 1,
   "metadata": {
    "collapsed": true
   },
   "outputs": [],
   "source": [
    "# Si Mai\n",
    "# HW 1 Problem 3\n",
    "# Declarations\n",
    "import numpy as np\n",
    "import matplotlib.pyplot as plt\n",
    "import pandas as pd"
   ]
  },
  {
   "cell_type": "code",
   "execution_count": 2,
   "metadata": {
    "collapsed": false
   },
   "outputs": [],
   "source": [
    "# Dataframes for FAH for respective interals\n",
    "Sheet_94_98 = pd.read_excel(\"../USFoodCommodity.xls\", sheetname='94-98 FAH')\n",
    "Sheet_03_04 = pd.read_excel(\"../USFoodCommodity.xls\", sheetname='03-04 FAH')\n",
    "Sheet_05_06 = pd.read_excel(\"../USFoodCommodity.xls\", sheetname='05-06 FAH')\n",
    "Sheet_07_08 = pd.read_excel(\"../USFoodCommodity.xls\", sheetname='07-08 FAH')"
   ]
  },
  {
   "cell_type": "code",
   "execution_count": 30,
   "metadata": {
    "collapsed": false
   },
   "outputs": [
    {
     "name": "stdout",
     "output_type": "stream",
     "text": [
      "<class 'pandas.core.frame.DataFrame'>\n"
     ]
    }
   ],
   "source": [
    "fruit_row = FAH_94_98_Men = Sheet_94_98.iloc[[78,80,81,82,83,84,87,88,89], 0]\n",
    "interval_col = ['94-98', '03-04', '05-06', '07-08']\n",
    "FAH_94_98_Men = Sheet_94_98.iloc[[78,80,81,82,83,84,87,88,89], 7]\n",
    "FAH_03_04_Men = Sheet_03_04.iloc[[78,80,81,82,83,84,87,88,89], 7]\n",
    "FAH_05_06_Men = Sheet_05_06.iloc[[78,80,81,82,83,84,87,88,89], 7]\n",
    "FAH_07_08_Men = Sheet_07_08.iloc[[78,80,81,82,83,84,87,88,89], 7]\n",
    "\n",
    "FAH_Men = pd.concat([FAH_94_98_Men, FAH_03_04_Men, FAH_05_06_Men, FAH_07_08_Men], axis=1)\n",
    "#print(fruit_row)\n",
    "#print(interval_col)\n",
    "#print(type(FAH_94_98_Men))\n",
    "print(type(FAH_Men))"
   ]
  },
  {
   "cell_type": "code",
   "execution_count": 5,
   "metadata": {
    "collapsed": true
   },
   "outputs": [],
   "source": [
    "FAH_94_98_Women = Sheet_94_98.iloc[[78,80,81,82,83,84,87,88,89], [0,10]]\n",
    "FAH_03_04_Women = Sheet_03_04.iloc[[78,80,81,82,83,84,87,88,89], [0,10]]\n",
    "FAH_05_06_Women = Sheet_05_06.iloc[[78,80,81,82,83,84,87,88,89], [0,10]]\n",
    "FAH_07_08_Women = Sheet_07_08.iloc[[78,80,81,82,83,84,87,88,89], [0,10]]"
   ]
  },
  {
   "cell_type": "code",
   "execution_count": null,
   "metadata": {
    "collapsed": true
   },
   "outputs": [],
   "source": []
  }
 ],
 "metadata": {
  "kernelspec": {
   "display_name": "Python 3",
   "language": "python",
   "name": "python3"
  },
  "language_info": {
   "codemirror_mode": {
    "name": "ipython",
    "version": 3
   },
   "file_extension": ".py",
   "mimetype": "text/x-python",
   "name": "python",
   "nbconvert_exporter": "python",
   "pygments_lexer": "ipython3",
   "version": "3.6.0"
  }
 },
 "nbformat": 4,
 "nbformat_minor": 2
}
