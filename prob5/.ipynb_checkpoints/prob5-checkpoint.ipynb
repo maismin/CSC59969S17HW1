{
 "cells": [
  {
   "cell_type": "markdown",
   "metadata": {
    "collapsed": true,
    "slideshow": {
     "slide_type": "slide"
    }
   },
   "source": [
    "# Data Set Types\n",
    "## by Si Mai"
   ]
  },
  {
   "cell_type": "markdown",
   "metadata": {
    "slideshow": {
     "slide_type": "slide"
    }
   },
   "source": [
    "## 1D Time Series\n",
    "\n",
    "<img src=\"1D_Time_Series.png\"/>\n",
    "\n",
    "The visualization above shows a 1D time series because the x-axis is the time variable."
   ]
  },
  {
   "cell_type": "markdown",
   "metadata": {
    "slideshow": {
     "slide_type": "slide"
    }
   },
   "source": [
    "## 2D Scalar Field\n",
    "\n",
    "<img src=\"2d_medical_brain.jpg\"/>\n",
    "\n",
    "This medical image of a brain is an example of a 2d scalar field visualization. At each (x,y) position, there is a corresponding value, which is translated into color."
   ]
  },
  {
   "cell_type": "markdown",
   "metadata": {
    "slideshow": {
     "slide_type": "slide"
    }
   },
   "source": [
    "## 3D Scalar Field and 3D Shape\n",
    "\n",
    "<img src=\"3D_Scalar_Shape.jpg\"/>\n",
    "\n",
    "The vis on the left shows a 3D scalar field. For each point in space, there is a temperature value. On the right is the 3D shape of the figure."
   ]
  },
  {
   "cell_type": "markdown",
   "metadata": {
    "slideshow": {
     "slide_type": "slide"
    }
   },
   "source": [
    "## 2D Vector Field\n",
    "\n",
    "<img src=\"2d_vector_hurricane_katrina.jpg\"/>\n",
    "\n",
    "This example shows the wind vector fields of hurricane Katrina. Each (x,y) position has shows the magnitude and vector of the wind."
   ]
  },
  {
   "cell_type": "markdown",
   "metadata": {
    "slideshow": {
     "slide_type": "slide"
    }
   },
   "source": [
    "## Graph (Not tree)\n",
    "\n",
    "<img src=\"graph.png\"/>\n",
    "\n",
    "This vis is an example of a graph. Each node represent an individual airport and its size represent the number of flight routes. The links between nodes represent flight routes between airports."
   ]
  }
 ],
 "metadata": {
  "celltoolbar": "Slideshow",
  "kernelspec": {
   "display_name": "Python 3",
   "language": "python",
   "name": "python3"
  },
  "language_info": {
   "codemirror_mode": {
    "name": "ipython",
    "version": 3
   },
   "file_extension": ".py",
   "mimetype": "text/x-python",
   "name": "python",
   "nbconvert_exporter": "python",
   "pygments_lexer": "ipython3",
   "version": "3.6.0"
  }
 },
 "nbformat": 4,
 "nbformat_minor": 2
}
