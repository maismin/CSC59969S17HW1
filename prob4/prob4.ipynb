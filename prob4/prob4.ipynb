{
 "cells": [
  {
   "cell_type": "code",
   "execution_count": 1,
   "metadata": {
    "collapsed": true
   },
   "outputs": [],
   "source": [
    "# Si Mai\n",
    "# HW 1 Problem 4\n",
    "# Declarations\n",
    "import numpy as np\n",
    "import matplotlib.pyplot as plt\n",
    "import pandas as pd\n",
    "%matplotlib inline"
   ]
  },
  {
   "cell_type": "code",
   "execution_count": 20,
   "metadata": {
    "collapsed": false
   },
   "outputs": [],
   "source": [
    "# Dataframes for FAH for respective interals\n",
    "file = 'USFoodCommodity.xls'\n",
    "data = pd.ExcelFile(file)\n",
    "Sheet_94_98 = data.parse('94-98 FAH', skiprows=73, skip_footer=142, index_col=0)\n",
    "Sheet_07_08 = data.parse('07-08 FAH', skiprows=73, skip_footer=142, index_col=0)\n",
    "\n",
    "fruits = ['Apples as fruit', 'Bananas', 'Berries', 'Grapes', 'Melons', 'Oranges, Total', 'Other citrus fruit', 'Stone fruit', 'Tropical fruit']\n",
    "\n",
    "# DataFrame - Fruit types over time (men)\n",
    "FAH_94_98_Men = Sheet_94_98.dropna(how='all', axis='columns')\n",
    "FAH_94_98_Men = FAH_94_98_Men.dropna(how='any')\n",
    "FAH_94_98_Men = FAH_94_98_Men.iloc[:, [6]]\n",
    "FAH_94_98_Men.index = FAH_94_98_Men.index.str.strip()\n",
    "FAH_94_98_Men_Fruit = FAH_94_98_Men.loc[fruits, :]\n",
    "\n",
    "FAH_07_08_Men = Sheet_07_08.dropna(how='all', axis='columns')\n",
    "FAH_07_08_Men = FAH_07_08_Men.dropna(how='any')\n",
    "FAH_07_08_Men = FAH_07_08_Men.iloc[:, [6]]\n",
    "FAH_07_08_Men.index = FAH_07_08_Men.index.str.strip()\n",
    "FAH_07_08_Men_Fruit = FAH_07_08_Men.loc[fruits, :]\n",
    "\n",
    "FAH_Men_Difference = FAH_07_08_Men_Fruit - FAH_94_98_Men_Fruit\n",
    "\n",
    "# DataFrame - Fruit types over time (women)\n",
    "FAH_94_98_Women = Sheet_94_98.dropna(how='all', axis='columns')\n",
    "FAH_94_98_Women = FAH_94_98_Women.dropna(how='any')\n",
    "FAH_94_98_Women = FAH_94_98_Women.iloc[:, [6]]\n",
    "FAH_94_98_Women.index = FAH_94_98_Women.index.str.strip()\n",
    "FAH_94_98_Women_Fruit = FAH_94_98_Women.loc[fruits, :]\n",
    "\n",
    "FAH_07_08_Women = Sheet_07_08.dropna(how='all', axis='columns')\n",
    "FAH_07_08_Women = FAH_07_08_Women.dropna(how='any')\n",
    "FAH_07_08_Women = FAH_07_08_Women.iloc[:, [6]]\n",
    "FAH_07_08_Women.index = FAH_07_08_Women.index.str.strip()\n",
    "FAH_07_08_Women_Fruit = FAH_07_08_Women.loc[fruits, :]\n",
    "\n",
    "FAH_Women_Difference = FAH_07_08_Women_Fruit - FAH_94_98_Women_Fruit"
   ]
  },
  {
   "cell_type": "code",
   "execution_count": null,
   "metadata": {
    "collapsed": false
   },
   "outputs": [],
   "source": []
  },
  {
   "cell_type": "code",
   "execution_count": null,
   "metadata": {
    "collapsed": true
   },
   "outputs": [],
   "source": []
  }
 ],
 "metadata": {
  "kernelspec": {
   "display_name": "Python 3",
   "language": "python",
   "name": "python3"
  },
  "language_info": {
   "codemirror_mode": {
    "name": "ipython",
    "version": 3
   },
   "file_extension": ".py",
   "mimetype": "text/x-python",
   "name": "python",
   "nbconvert_exporter": "python",
   "pygments_lexer": "ipython3",
   "version": "3.6.0"
  }
 },
 "nbformat": 4,
 "nbformat_minor": 2
}
